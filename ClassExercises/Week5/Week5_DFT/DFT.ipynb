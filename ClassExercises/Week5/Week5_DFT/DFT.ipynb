{
 "cells": [
  {
   "cell_type": "code",
   "execution_count": null,
   "id": "geological-messenger",
   "metadata": {},
   "outputs": [],
   "source": [
    "import numpy as np\n",
    "import matplotlib.pyplot as plt"
   ]
  },
  {
   "cell_type": "code",
   "execution_count": null,
   "id": "colored-charlotte",
   "metadata": {},
   "outputs": [],
   "source": [
    "def make_plots(N):\n",
    "    plt.figure(figsize=(12, 20))\n",
    "    n_freqs = int(np.ceil(N/2))\n",
    "    for i in range(n_freqs):\n",
    "        t = np.linspace(0, 1, N+1)[0:N]\n",
    "        c = np.cos(2*np.pi*i*t)\n",
    "        s = np.sin(2*np.pi*i*t)\n",
    "        plt.subplot2grid((N*10, 21), (i*10, 0), rowspan=10, colspan=1)\n",
    "        plt.axis('off')\n",
    "        plt.xlim([-1, 1])\n",
    "        plt.ylim([-1, 1])\n",
    "        plt.text(0, 0.5, \"{}\".format(i))\n",
    "        plt.subplot2grid((N*10, 21), (i*10, 1), rowspan=10, colspan=10)\n",
    "        plt.plot(c)\n",
    "        plt.ylim(-1.5, 1.5)\n",
    "        plt.axis('off')\n",
    "        if i == 0:\n",
    "            plt.title(\"Cosines\")\n",
    "        plt.subplot2grid((N*10, 21), (i*10, 11), rowspan=10, colspan=10)\n",
    "        plt.plot(s)\n",
    "        plt.ylim(-1.5, 1.5)\n",
    "        plt.axis('off')\n",
    "        if i == 0:\n",
    "            plt.title(\"Sines\")\n",
    "make_plots(40)"
   ]
  },
  {
   "cell_type": "code",
   "execution_count": null,
   "id": "massive-advice",
   "metadata": {},
   "outputs": [],
   "source": [
    "def get_dft(x):\n",
    "    N = len(x)\n",
    "    t = np.linspace(0, 1, N+1)[0:N]\n",
    "    n_freqs = int(np.ceil(N/2))\n",
    "    cos_sums = np.zeros(n_freqs)\n",
    "    sin_sums = np.zeros(n_freqs)\n",
    "\n",
    "    ## TODO: Fill this in\n",
    "    \n",
    "    return cos_sums, sin_sums"
   ]
  },
  {
   "cell_type": "code",
   "execution_count": null,
   "id": "structural-strike",
   "metadata": {},
   "outputs": [],
   "source": [
    "N = 100\n",
    "t = np.linspace(0, 1, N+1)[0:N] # Evenly spaced on [0, 1)\n",
    "x = np.cos(2*np.pi*t)\n",
    "c, s = get_dft(x)\n",
    "plt.figure(figsize=(12, 4))\n",
    "plt.subplot(121)\n",
    "plt.stem(c)\n",
    "plt.title(\"Cosine Product Sums\") \n",
    "plt.subplot(122)\n",
    "plt.stem(s)\n",
    "plt.title(\"Sine Product Sums\")"
   ]
  },
  {
   "cell_type": "code",
   "execution_count": null,
   "id": "industrial-sheep",
   "metadata": {},
   "outputs": [],
   "source": []
  }
 ],
 "metadata": {
  "kernelspec": {
   "display_name": "Python 3 (ipykernel)",
   "language": "python",
   "name": "python3"
  },
  "language_info": {
   "codemirror_mode": {
    "name": "ipython",
    "version": 3
   },
   "file_extension": ".py",
   "mimetype": "text/x-python",
   "name": "python",
   "nbconvert_exporter": "python",
   "pygments_lexer": "ipython3",
   "version": "3.11.11"
  }
 },
 "nbformat": 4,
 "nbformat_minor": 5
}
